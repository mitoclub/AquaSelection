{
 "cells": [
  {
   "cell_type": "markdown",
   "metadata": {},
   "source": [
    "| Group   | Sample | Alive | Dead | Survival Rate (%) |\n",
    "| ------- | ------ | ----- | ---- | ----------------- |\n",
    "| Control | 1      | 61    | 15   | 80                |\n",
    "| Control | 2      | 23    | 5    | 82                |\n",
    "| Control | 3      | 30    | 11   | 73                |\n",
    "| ENU     | 1      | 45    | 2    | 93                |\n",
    "| ENU     | 2      | 31    | 5    | 86                |\n",
    "| ENU     | 3      | 29    | 9    | 76                |\n",
    "|         |        |       |      |                   |"
   ]
  },
  {
   "cell_type": "code",
   "execution_count": 38,
   "metadata": {},
   "outputs": [
    {
     "data": {
      "text/html": [
       "<div>\n",
       "<style scoped>\n",
       "    .dataframe tbody tr th:only-of-type {\n",
       "        vertical-align: middle;\n",
       "    }\n",
       "\n",
       "    .dataframe tbody tr th {\n",
       "        vertical-align: top;\n",
       "    }\n",
       "\n",
       "    .dataframe thead th {\n",
       "        text-align: right;\n",
       "    }\n",
       "</style>\n",
       "<table border=\"1\" class=\"dataframe\">\n",
       "  <thead>\n",
       "    <tr style=\"text-align: right;\">\n",
       "      <th></th>\n",
       "      <th>Group</th>\n",
       "      <th>Sample</th>\n",
       "      <th>Alive</th>\n",
       "      <th>Dead</th>\n",
       "    </tr>\n",
       "  </thead>\n",
       "  <tbody>\n",
       "    <tr>\n",
       "      <th>0</th>\n",
       "      <td>Control</td>\n",
       "      <td>1</td>\n",
       "      <td>61</td>\n",
       "      <td>15</td>\n",
       "    </tr>\n",
       "    <tr>\n",
       "      <th>1</th>\n",
       "      <td>Control</td>\n",
       "      <td>2</td>\n",
       "      <td>23</td>\n",
       "      <td>5</td>\n",
       "    </tr>\n",
       "    <tr>\n",
       "      <th>2</th>\n",
       "      <td>Control</td>\n",
       "      <td>3</td>\n",
       "      <td>30</td>\n",
       "      <td>11</td>\n",
       "    </tr>\n",
       "    <tr>\n",
       "      <th>3</th>\n",
       "      <td>ENU</td>\n",
       "      <td>1</td>\n",
       "      <td>45</td>\n",
       "      <td>2</td>\n",
       "    </tr>\n",
       "    <tr>\n",
       "      <th>4</th>\n",
       "      <td>ENU</td>\n",
       "      <td>2</td>\n",
       "      <td>31</td>\n",
       "      <td>5</td>\n",
       "    </tr>\n",
       "    <tr>\n",
       "      <th>5</th>\n",
       "      <td>ENU</td>\n",
       "      <td>3</td>\n",
       "      <td>29</td>\n",
       "      <td>9</td>\n",
       "    </tr>\n",
       "  </tbody>\n",
       "</table>\n",
       "</div>"
      ],
      "text/plain": [
       "     Group  Sample  Alive  Dead\n",
       "0  Control       1     61    15\n",
       "1  Control       2     23     5\n",
       "2  Control       3     30    11\n",
       "3      ENU       1     45     2\n",
       "4      ENU       2     31     5\n",
       "5      ENU       3     29     9"
      ]
     },
     "execution_count": 38,
     "metadata": {},
     "output_type": "execute_result"
    }
   ],
   "source": [
    "import pandas as pd\n",
    "from scipy.stats import chi2_contingency, binomtest\n",
    "\n",
    "# Данные\n",
    "data = {\n",
    "    'Group': ['Control', 'Control', 'Control', 'ENU', 'ENU', 'ENU'],\n",
    "    'Sample': [1,2,3,1,2,3],\n",
    "    'Alive': [61, 23, 30, 45, 31, 29],\n",
    "    'Dead': [15, 5, 11, 2, 5, 9],\n",
    "}\n",
    "\n",
    "# Создание DataFrame\n",
    "df = pd.DataFrame(data)\n",
    "df"
   ]
  },
  {
   "cell_type": "code",
   "execution_count": 39,
   "metadata": {},
   "outputs": [
    {
     "name": "stdout",
     "output_type": "stream",
     "text": [
      "61 15 ConfidenceInterval(low=0.6954487493074042, high=0.8851146956511898)\n",
      "23 5 ConfidenceInterval(low=0.6310666505807967, high=0.9393570911808748)\n",
      "30 11 ConfidenceInterval(low=0.5705552947339179, high=0.8577869966591287)\n",
      "45 2 ConfidenceInterval(low=0.8545947545117785, high=0.9948044168232747)\n",
      "31 5 ConfidenceInterval(low=0.7050250518892914, high=0.9533223393969105)\n",
      "29 9 ConfidenceInterval(low=0.5975876394285092, high=0.8855582951774705)\n"
     ]
    }
   ],
   "source": [
    "for x,y in zip([61, 23, 30, 45, 31, 29], [15, 5, 11, 2, 5, 9]):\n",
    "    btr = binomtest(x, x+y)\n",
    "    print(x,y, btr.proportion_ci())"
   ]
  },
  {
   "cell_type": "code",
   "execution_count": 40,
   "metadata": {},
   "outputs": [
    {
     "data": {
      "text/plain": [
       "Chi2ContingencyResult(statistic=9.700999334502256, pvalue=0.0841643956660993, dof=5, expected_freq=array([[62.57142857, 13.42857143],\n",
       "       [23.05263158,  4.94736842],\n",
       "       [33.7556391 ,  7.2443609 ],\n",
       "       [38.69548872,  8.30451128],\n",
       "       [29.63909774,  6.36090226],\n",
       "       [31.28571429,  6.71428571]]))"
      ]
     },
     "execution_count": 40,
     "metadata": {},
     "output_type": "execute_result"
    }
   ],
   "source": [
    "# Проведение хи-квадрат теста\n",
    "chi2_contingency(df[['Alive', 'Dead']].values)"
   ]
  },
  {
   "cell_type": "code",
   "execution_count": 41,
   "metadata": {},
   "outputs": [
    {
     "name": "stdout",
     "output_type": "stream",
     "text": [
      "[[114  31]\n",
      " [105  16]]\n",
      "[[119.38  25.62]\n",
      " [ 99.62  21.38]]\n",
      "\n",
      "χ²: 2.4816222608602425, p-value: 0.11518339366467908\n",
      "Различие между группами незначимо.\n"
     ]
    }
   ],
   "source": [
    "# Суммирование по группам\n",
    "grouped_data = df.groupby('Group')[['Alive', 'Dead']].sum()\n",
    "\n",
    "# Создание таблицы сопряженности\n",
    "contingency_table = grouped_data[['Alive', 'Dead']].values\n",
    "print(contingency_table)\n",
    "\n",
    "# Проведение хи-квадрат теста\n",
    "chi2, p, _, expected_freq = chi2_contingency(contingency_table)\n",
    "print(expected_freq.round(2))\n",
    "\n",
    "# Вывод результатов\n",
    "print(f\"\\nχ²: {chi2}, p-value: {p}\")\n",
    "\n",
    "if p < 0.05:\n",
    "    print(\"Различие между группами значимо.\")\n",
    "else:\n",
    "    print(\"Различие между группами незначимо.\")\n"
   ]
  },
  {
   "cell_type": "code",
   "execution_count": 42,
   "metadata": {},
   "outputs": [
    {
     "name": "stdout",
     "output_type": "stream",
     "text": [
      "Точный тест Фишера. p-value: 0.10608109638935878\n",
      "Различие между группами незначимо.\n"
     ]
    }
   ],
   "source": [
    "from scipy.stats import fisher_exact\n",
    "\n",
    "# Точный тест Фишера\n",
    "_, p = fisher_exact(contingency_table)\n",
    "\n",
    "print(f\"Точный тест Фишера. p-value: {p}\")\n",
    "\n",
    "if p < 0.05:\n",
    "    print(\"Различие между группами значимо.\")\n",
    "else:\n",
    "    print(\"Различие между группами незначимо.\")\n"
   ]
  },
  {
   "cell_type": "code",
   "execution_count": 43,
   "metadata": {},
   "outputs": [
    {
     "data": {
      "text/html": [
       "<div>\n",
       "<style scoped>\n",
       "    .dataframe tbody tr th:only-of-type {\n",
       "        vertical-align: middle;\n",
       "    }\n",
       "\n",
       "    .dataframe tbody tr th {\n",
       "        vertical-align: top;\n",
       "    }\n",
       "\n",
       "    .dataframe thead th {\n",
       "        text-align: right;\n",
       "    }\n",
       "</style>\n",
       "<table border=\"1\" class=\"dataframe\">\n",
       "  <thead>\n",
       "    <tr style=\"text-align: right;\">\n",
       "      <th></th>\n",
       "      <th>Group</th>\n",
       "      <th>Sample</th>\n",
       "      <th>Alive</th>\n",
       "      <th>Dead</th>\n",
       "    </tr>\n",
       "  </thead>\n",
       "  <tbody>\n",
       "    <tr>\n",
       "      <th>0</th>\n",
       "      <td>Control</td>\n",
       "      <td>1</td>\n",
       "      <td>61</td>\n",
       "      <td>15</td>\n",
       "    </tr>\n",
       "    <tr>\n",
       "      <th>1</th>\n",
       "      <td>Control</td>\n",
       "      <td>2</td>\n",
       "      <td>23</td>\n",
       "      <td>5</td>\n",
       "    </tr>\n",
       "    <tr>\n",
       "      <th>2</th>\n",
       "      <td>Control</td>\n",
       "      <td>3</td>\n",
       "      <td>30</td>\n",
       "      <td>11</td>\n",
       "    </tr>\n",
       "    <tr>\n",
       "      <th>3</th>\n",
       "      <td>ENU</td>\n",
       "      <td>1</td>\n",
       "      <td>45</td>\n",
       "      <td>2</td>\n",
       "    </tr>\n",
       "    <tr>\n",
       "      <th>4</th>\n",
       "      <td>ENU</td>\n",
       "      <td>2</td>\n",
       "      <td>31</td>\n",
       "      <td>5</td>\n",
       "    </tr>\n",
       "    <tr>\n",
       "      <th>5</th>\n",
       "      <td>ENU</td>\n",
       "      <td>3</td>\n",
       "      <td>29</td>\n",
       "      <td>9</td>\n",
       "    </tr>\n",
       "  </tbody>\n",
       "</table>\n",
       "</div>"
      ],
      "text/plain": [
       "     Group  Sample  Alive  Dead\n",
       "0  Control       1     61    15\n",
       "1  Control       2     23     5\n",
       "2  Control       3     30    11\n",
       "3      ENU       1     45     2\n",
       "4      ENU       2     31     5\n",
       "5      ENU       3     29     9"
      ]
     },
     "execution_count": 43,
     "metadata": {},
     "output_type": "execute_result"
    }
   ],
   "source": [
    "df"
   ]
  },
  {
   "cell_type": "code",
   "execution_count": 53,
   "metadata": {},
   "outputs": [
    {
     "data": {
      "image/png": "[encoded data removed]",
      "text/plain": [
       "<Figure size 640x480 with 1 Axes>"
      ]
     },
     "metadata": {},
     "output_type": "display_data"
    }
   ],
   "source": [
    "import numpy as np\n",
    "import pandas as pd\n",
    "import matplotlib.pyplot as plt\n",
    "\n",
    "\n",
    "def plot_chi2_viz_hpv(data: pd.DataFrame, pos=[1,1,1], pval=None, legend_loc='upper left'):\n",
    "    status0 = data['Alive']\n",
    "    status1 = data['Dead']\n",
    "    total = np.sum([status0, status1], axis=0)\n",
    "    status0_percent = np.array(status0 / total * 100)\n",
    "    status1_percent = np.array(status1 / total * 100)\n",
    "    ylabels = data['Group'] + '-' + data['Sample'].astype('str')\n",
    "\n",
    "    # Bar positions\n",
    "    bar_positions = np.arange(len(ylabels))\n",
    "\n",
    "    # Plot\n",
    "    # fig, ax = plt.subplots(figsize=(5, 3))\n",
    "    ax = plt.subplot(*pos)\n",
    "    bar_width = 0.6\n",
    "\n",
    "    ax.barh(bar_positions, status0_percent, bar_width, \n",
    "    label=f'Alive (n={sum(status0)})', \n",
    "    color='navy')\n",
    "    ax.barh(bar_positions, status1_percent, bar_width, \n",
    "    left=status0_percent, label=f'Dead (n={sum(status1)})', \n",
    "    color='dodgerblue')\n",
    "\n",
    "    ax.set_xlabel('Percentage', fontsize=12)\n",
    "    ax.set_yticks(bar_positions)\n",
    "    ax.set_yticklabels(ylabels, fontsize=10)\n",
    "    ax.invert_yaxis()  # Invert y axis to have the top bar on top\n",
    "    # ax.legend(loc='center left', bbox_to_anchor=(1, 0.5), fontsize=9)\n",
    "    ax.legend(loc=legend_loc, fontsize=9)\n",
    "    if pval:\n",
    "        ax.text(0.02, 0.73, f'pval={pval:.1e}', transform=ax.transAxes,\n",
    "            fontsize=10,  verticalalignment='top', horizontalalignment='left',\n",
    "            bbox=dict(facecolor='white', alpha=0.8, edgecolor='none'))\n",
    "\n",
    "plot_chi2_viz_hpv(df)"
   ]
  },
  {
   "cell_type": "code",
   "execution_count": 54,
   "metadata": {},
   "outputs": [
    {
     "data": {
      "text/html": [
       "<div>\n",
       "<style scoped>\n",
       "    .dataframe tbody tr th:only-of-type {\n",
       "        vertical-align: middle;\n",
       "    }\n",
       "\n",
       "    .dataframe tbody tr th {\n",
       "        vertical-align: top;\n",
       "    }\n",
       "\n",
       "    .dataframe thead th {\n",
       "        text-align: right;\n",
       "    }\n",
       "</style>\n",
       "<table border=\"1\" class=\"dataframe\">\n",
       "  <thead>\n",
       "    <tr style=\"text-align: right;\">\n",
       "      <th></th>\n",
       "      <th>Group</th>\n",
       "      <th>Sample</th>\n",
       "      <th>Alive</th>\n",
       "      <th>Dead</th>\n",
       "    </tr>\n",
       "  </thead>\n",
       "  <tbody>\n",
       "    <tr>\n",
       "      <th>0</th>\n",
       "      <td>Control</td>\n",
       "      <td>1</td>\n",
       "      <td>61</td>\n",
       "      <td>15</td>\n",
       "    </tr>\n",
       "    <tr>\n",
       "      <th>1</th>\n",
       "      <td>Control</td>\n",
       "      <td>2</td>\n",
       "      <td>23</td>\n",
       "      <td>5</td>\n",
       "    </tr>\n",
       "    <tr>\n",
       "      <th>2</th>\n",
       "      <td>Control</td>\n",
       "      <td>3</td>\n",
       "      <td>30</td>\n",
       "      <td>11</td>\n",
       "    </tr>\n",
       "    <tr>\n",
       "      <th>3</th>\n",
       "      <td>ENU</td>\n",
       "      <td>1</td>\n",
       "      <td>45</td>\n",
       "      <td>2</td>\n",
       "    </tr>\n",
       "    <tr>\n",
       "      <th>4</th>\n",
       "      <td>ENU</td>\n",
       "      <td>2</td>\n",
       "      <td>31</td>\n",
       "      <td>5</td>\n",
       "    </tr>\n",
       "    <tr>\n",
       "      <th>5</th>\n",
       "      <td>ENU</td>\n",
       "      <td>3</td>\n",
       "      <td>29</td>\n",
       "      <td>9</td>\n",
       "    </tr>\n",
       "  </tbody>\n",
       "</table>\n",
       "</div>"
      ],
      "text/plain": [
       "     Group  Sample  Alive  Dead\n",
       "0  Control       1     61    15\n",
       "1  Control       2     23     5\n",
       "2  Control       3     30    11\n",
       "3      ENU       1     45     2\n",
       "4      ENU       2     31     5\n",
       "5      ENU       3     29     9"
      ]
     },
     "execution_count": 54,
     "metadata": {},
     "output_type": "execute_result"
    }
   ],
   "source": [
    "df"
   ]
  },
  {
   "cell_type": "code",
   "execution_count": null,
   "metadata": {},
   "outputs": [],
   "source": [
    "import seaborn as sns\n",
    "\n",
    "sns.pointplot(\n",
    "    data=df, x=\"body_mass_g\", y=\"island\",\n",
    "    errorbar=(\"pi\", 100), capsize=.4,\n",
    "    color=\".5\", linestyle=\"none\", marker=\"D\",\n",
    ")"
   ]
  }
 ],
 "metadata": {
  "kernelspec": {
   "display_name": "env_bio",
   "language": "python",
   "name": "python3"
  },
  "language_info": {
   "codemirror_mode": {
    "name": "ipython",
    "version": 3
   },
   "file_extension": ".py",
   "mimetype": "text/x-python",
   "name": "python",
   "nbconvert_exporter": "python",
   "pygments_lexer": "ipython3",
   "version": "3.9.20"
  }
 },
 "nbformat": 4,
 "nbformat_minor": 2
}
